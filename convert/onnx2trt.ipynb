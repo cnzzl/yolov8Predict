{
 "cells": [
  {
   "cell_type": "code",
   "execution_count": null,
   "metadata": {},
   "outputs": [],
   "source": [
    "trtexec --onnx=model.onnx --saveEngine=your_model.engine --fp16"
   ]
  },
  {
   "cell_type": "code",
   "execution_count": null,
   "metadata": {},
   "outputs": [],
   "source": [
    "import subprocess\n",
    "\n",
    "# 定义exe文件的路径和参数\n",
    "exe_path = \"C:/Users/Administrator/trtexec.exe\"\n",
    "arguments = [\"--onnx=yolov8n.onnx\", \"--saveEngine=your_model.engine\", \"--fp16\"]\n",
    "\n",
    "# 构建完整的命令列表，第一个元素是可执行文件的路径，后面是参数\n",
    "command = [exe_path] + arguments\n",
    "\n",
    "try:\n",
    "    # 使用subprocess.run来执行命令\n",
    "    result = subprocess.run(command, check=True, capture_output=True, text=True)\n",
    "    \n",
    "    # 打印命令的输出\n",
    "    print(\"Standard Output:\")\n",
    "    print(result.stdout)\n",
    "    \n",
    "    # 打印命令的错误输出（如果有）\n",
    "    print(\"Standard Error:\")\n",
    "    print(result.stderr)\n",
    "    \n",
    "except subprocess.CalledProcessError as e:\n",
    "    print(f\"The command failed with return code {e.returncode}\")\n",
    "    print(f\"Error Output: {e.stderr}\")"
   ]
  }
 ],
 "metadata": {
  "language_info": {
   "name": "python"
  },
  "orig_nbformat": 4
 },
 "nbformat": 4,
 "nbformat_minor": 2
}
